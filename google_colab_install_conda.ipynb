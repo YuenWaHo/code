{
 "cells": [
  {
   "cell_type": "code",
   "execution_count": 1,
   "metadata": {},
   "outputs": [
    {
     "name": "stdout",
     "output_type": "stream",
     "text": [
      "--2024-10-13 23:03:09--  https://repo.anaconda.com/miniconda/Miniconda3-py39_4.10.3-Linux-x86_64.sh\n",
      "Resolving repo.anaconda.com (repo.anaconda.com)... 104.16.32.241, 104.16.191.158, 2606:4700::6810:bf9e, ...\n",
      "Connecting to repo.anaconda.com (repo.anaconda.com)|104.16.32.241|:443... connected.\n",
      "HTTP request sent, awaiting response... 200 OK\n",
      "Length: 66709754 (64M) [application/x-sh]\n",
      "Saving to: 'Miniconda3-py39_4.10.3-Linux-x86_64.sh'\n",
      "\n",
      "Miniconda3-py39_4.1 100%[===================>]  63.62M  44.5MB/s    in 1.4s    \n",
      "\n",
      "2024-10-13 23:03:11 (44.5 MB/s) - 'Miniconda3-py39_4.10.3-Linux-x86_64.sh' saved [66709754/66709754]\n",
      "\n",
      "PREFIX=/usr/local\n",
      "./Miniconda3-py39_4.10.3-Linux-x86_64.sh: line 378: /usr/local/conda.exe: Permission denied\n",
      "chmod: /usr/local/conda.exe: No such file or directory\n",
      "Unpacking payload ...\n",
      "./Miniconda3-py39_4.10.3-Linux-x86_64.sh: line 390: /usr/local/conda.exe: No such file or directory\n",
      "./Miniconda3-py39_4.10.3-Linux-x86_64.sh: line 392: /usr/local/conda.exe: No such file or directory\n"
     ]
    }
   ],
   "source": [
    "################################################################################\n",
    "# INSTALL CONDA ON GOOGLE COLAB\n",
    "################################################################################\n",
    "# Download the latest Miniconda compatible with Python 3.9\n",
    "!wget https://repo.anaconda.com/miniconda/Miniconda3-py39_4.10.3-Linux-x86_64.sh\n",
    "\n",
    "# Make the installer script executable\n",
    "!chmod +x Miniconda3-py39_4.10.3-Linux-x86_64.sh\n",
    "\n",
    "# Run the installer script\n",
    "!bash ./Miniconda3-py39_4.10.3-Linux-x86_64.sh -b -f -p /usr/local\n",
    "\n",
    "# Append path to be able to run Conda from Colab\n",
    "import sys\n",
    "sys.path.append('/usr/local/lib/python3.9/site-packages/')"
   ]
  },
  {
   "cell_type": "code",
   "execution_count": null,
   "metadata": {},
   "outputs": [],
   "source": [
    "# Create a new Conda environment with Python 3.9\n",
    "!conda create -n depth-pro -y python=3.9\n",
    "\n",
    "# Activate the Conda environment\n",
    "!echo \"source activate depth-pro\" > ~/.bashrc\n",
    "source ~/.bashrc\n",
    "\n",
    "pip install -e ."
   ]
  }
 ],
 "metadata": {
  "kernelspec": {
   "display_name": "base",
   "language": "python",
   "name": "python3"
  },
  "language_info": {
   "codemirror_mode": {
    "name": "ipython",
    "version": 3
   },
   "file_extension": ".py",
   "mimetype": "text/x-python",
   "name": "python",
   "nbconvert_exporter": "python",
   "pygments_lexer": "ipython3",
   "version": "3.9.13"
  }
 },
 "nbformat": 4,
 "nbformat_minor": 2
}
